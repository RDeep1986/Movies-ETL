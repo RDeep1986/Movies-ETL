{
 "cells": [
  {
   "cell_type": "code",
   "execution_count": 12,
   "metadata": {},
   "outputs": [],
   "source": [
    "def connect():\n",
    "    # Set up a connection to the postgres server.\n",
    "    connection_string = f'{protocol}://{user}:{db_password}@{location}:{port}/{db}'\n",
    "    conn = psycopg2.connect(connection_string)\n",
    "    print(\"Connected!\")\n",
    "    # Create a cursor object\n",
    "    cursor = conn.cursor()\n",
    "    return conn, cursor"
   ]
  },
  {
   "cell_type": "code",
   "execution_count": 13,
   "metadata": {},
   "outputs": [
    {
     "ename": "ModuleNotFoundError",
     "evalue": "No module named 'psycopg2'",
     "output_type": "error",
     "traceback": [
      "\u001b[1;31m---------------------------------------------------------------------------\u001b[0m",
      "\u001b[1;31mModuleNotFoundError\u001b[0m                       Traceback (most recent call last)",
      "\u001b[1;32m<ipython-input-13-7bd34576b9bc>\u001b[0m in \u001b[0;36m<module>\u001b[1;34m\u001b[0m\n\u001b[1;32m----> 1\u001b[1;33m \u001b[1;32mimport\u001b[0m \u001b[0mpsycopg2\u001b[0m\u001b[1;33m\u001b[0m\u001b[1;33m\u001b[0m\u001b[0m\n\u001b[0m\u001b[0;32m      2\u001b[0m \u001b[1;32mimport\u001b[0m \u001b[0mpandas\u001b[0m \u001b[1;32mas\u001b[0m \u001b[0mpd\u001b[0m\u001b[1;33m\u001b[0m\u001b[1;33m\u001b[0m\u001b[0m\n\u001b[0;32m      3\u001b[0m \u001b[1;32mfrom\u001b[0m \u001b[0msqlalchemy\u001b[0m \u001b[1;32mimport\u001b[0m \u001b[0mcreate_engine\u001b[0m\u001b[1;33m\u001b[0m\u001b[1;33m\u001b[0m\u001b[0m\n\u001b[0;32m      4\u001b[0m \u001b[1;32mfrom\u001b[0m \u001b[0mconfig\u001b[0m \u001b[1;32mimport\u001b[0m \u001b[0musername\u001b[0m\u001b[1;33m,\u001b[0m \u001b[0mpassword\u001b[0m\u001b[1;33m\u001b[0m\u001b[1;33m\u001b[0m\u001b[0m\n\u001b[0;32m      5\u001b[0m \u001b[1;31m#username=\"postgres\"\u001b[0m\u001b[1;33m\u001b[0m\u001b[1;33m\u001b[0m\u001b[1;33m\u001b[0m\u001b[0m\n",
      "\u001b[1;31mModuleNotFoundError\u001b[0m: No module named 'psycopg2'"
     ]
    }
   ],
   "source": [
    "import psycopg2\n",
    "import pandas as pd\n",
    "from sqlalchemy import create_engine\n",
    "from config import username, password\n",
    "#username=\"postgres\"\n",
    "#password = \"password_for_server\"\n",
    "protocol = \"postgres\"\n",
    "location = \"127.0.0.1\"\n",
    "port = \"5432\"\n",
    "db = \"practice\"\n",
    "class SQL_Database:\n",
    "    def __init__(self, protocol, username, password, location, port, db):\n",
    "        '''\n",
    "        Store database credentials:\n",
    "        Parameters:\n",
    "            protocol - the protocol for the database\n",
    "            username - database username\n",
    "            password - database password\n",
    "            location - the ip address for server location\n",
    "            port     - port for connection\n",
    "            db       - name of the database\n",
    "        '''\n",
    "        self.protocol = protocol\n",
    "        self.username = username\n",
    "        self.password = password\n",
    "        self.location = location\n",
    "        self.port = port\n",
    "        self.db = db\n",
    "    def connect(self):\n",
    "        '''\n",
    "        Lets setup a test for DB connection:\n",
    "        Sets in Class object:\n",
    "            engine - engine used to extract data\n",
    "            conn   - connection value to verify connection\n",
    "            cursor - the cursor item from the connection\n",
    "        '''\n",
    "        connection_string = f'{self.protocol}://{self.username}:{self.password}@{self.location}:{self.port}/{self.db}'  \n",
    "        self.conn = psycopg2.connect(connection_string)\n",
    "        self.cursor = self.conn.cursor()\n",
    "        self.engine = create_engine(connection_string)\n",
    "        print(\"Connected!\")\n",
    "        print(pd.DataFrame(self.engine.table_names(), columns=[\"Tables in database:\"]))\n",
    "    def insert_or_create(self,data_df, table_name):\n",
    "        '''\n",
    "        This will insert a new table if the table does not exist.\n",
    "        If the table does exist we will append to the table\n",
    "        Parameters:\n",
    "            data_df    - a dataframe of the data we are inserting\n",
    "            table_name - name of the table we are inserting the data into\n",
    "        '''\n",
    "        check=engine.has_table(table_name)\n",
    "        if check == False:\n",
    "            print(\"New table created\")\n",
    "            data_df.to_sql(name=table_name, con=self.engine, index=False)\n",
    "        else:\n",
    "            print(\"Table appended too\")\n",
    "            data_df.to_sql(name=table_name, con=self.engine, index=False, if_exists=\"append\")\n",
    "    def close_connection(self):\n",
    "        if(self.conn):\n",
    "            try:\n",
    "                print('connection closed')\n",
    "                self.cursor.close()\n",
    "                self.conn.close()\n",
    "            except:\n",
    "                print('error closing connection')"
   ]
  },
  {
   "cell_type": "code",
   "execution_count": null,
   "metadata": {},
   "outputs": [],
   "source": []
  }
 ],
 "metadata": {
  "kernelspec": {
   "display_name": "Python 3",
   "language": "python",
   "name": "python3"
  },
  "language_info": {
   "codemirror_mode": {
    "name": "ipython",
    "version": 3
   },
   "file_extension": ".py",
   "mimetype": "text/x-python",
   "name": "python",
   "nbconvert_exporter": "python",
   "pygments_lexer": "ipython3",
   "version": "3.7.6"
  }
 },
 "nbformat": 4,
 "nbformat_minor": 4
}
